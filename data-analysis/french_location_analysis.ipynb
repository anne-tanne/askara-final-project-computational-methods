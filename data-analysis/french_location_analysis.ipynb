{
 "cells": [
  {
   "cell_type": "markdown",
   "id": "7626bce3",
   "metadata": {},
   "source": [
    "# Location Analysis in French"
   ]
  },
  {
   "cell_type": "markdown",
   "id": "a44558c5",
   "metadata": {},
   "source": [
    "### Setup\n"
   ]
  },
  {
   "cell_type": "code",
   "execution_count": 1,
   "id": "cd3dde02",
   "metadata": {},
   "outputs": [],
   "source": [
    "# Importing necessary libraries for data manipulation, text processing, and web requests.\n",
    "import pandas as pd\n",
    "import spacy\n",
    "import requests\n",
    "import re\n",
    "import unicodedata"
   ]
  },
  {
   "cell_type": "code",
   "execution_count": 2,
   "id": "3caee477",
   "metadata": {},
   "outputs": [],
   "source": [
    "# Loading the French language model for SpaCy.\n",
    "nlp = spacy.load(\"fr_core_news_sm\")"
   ]
  },
  {
   "cell_type": "code",
   "execution_count": 6,
   "id": "9fdf4d7b",
   "metadata": {},
   "outputs": [],
   "source": [
    "# Loading different datasets for the analysis.\n",
    "df_french = pd.read_csv('../scraping/data/extractor_all_articles_20minutes.csv')\n",
    "df_cities_french = pd.read_csv('input/list_cities_french.csv')\n",
    "df_countries_french = pd.read_csv('input/list_country_capital_french.csv')\n",
    "df_cantons_french = pd.read_csv('input/list_cantons_french.csv')\n",
    "french_iso_3166 = pd.read_csv('input/french-iso-3166.csv')"
   ]
  },
  {
   "cell_type": "code",
   "execution_count": 8,
   "id": "8f7592a2",
   "metadata": {},
   "outputs": [],
   "source": [
    "# Define functions for text normalization and cleaning.\n",
    "def normalize_text(text):\n",
    "    return unicodedata.normalize('NFKD', text).encode('ascii', 'ignore').decode('ascii').lower()\n",
    "\n",
    "def apply_normalize_text_if_str(x):\n",
    "    return normalize_text(x) if isinstance(x, str) else x"
   ]
  },
  {
   "cell_type": "code",
   "execution_count": 9,
   "id": "994965be",
   "metadata": {},
   "outputs": [],
   "source": [
    "# Normalizing specific columns in the datasets to facilitate text processing.\n",
    "columns_to_normalize = ['Content', 'Title', 'Header']\n",
    "df_french[columns_to_normalize] = df_french[columns_to_normalize].applymap(apply_normalize_text_if_str)"
   ]
  },
  {
   "cell_type": "code",
   "execution_count": null,
   "id": "3802f5aa",
   "metadata": {},
   "outputs": [],
   "source": [
    "columns_to_normalize = ['Name']\n",
    "french_iso_3166[columns_to_normalize] = french_iso_3166[columns_to_normalize].applymap(apply_normalize_text_if_str)"
   ]
  },
  {
   "cell_type": "code",
   "execution_count": 15,
   "id": "3ec63ffd",
   "metadata": {},
   "outputs": [],
   "source": [
    "df_cities_french['Ville'] = df_cities_french['Ville'].apply(apply_normalize_text_if_str)\n",
    "df_cities_french = df_cities_french[['Ville', 'Coordinates', 'Latitude', 'Longitude']]\n",
    "df_cities_french = df_cities_french.rename(columns={\"Ville\": \"CityName\"})"
   ]
  },
  {
   "cell_type": "code",
   "execution_count": 19,
   "id": "b9d1fe70",
   "metadata": {},
   "outputs": [],
   "source": [
    "df_cantons_french['Canton'] = df_cantons_french['Canton'].apply(apply_normalize_text_if_str)\n",
    "df_cantons_french = df_cantons_french[['Canton']]\n",
    "df_cantons_french = df_cantons_french.rename(columns={\"Canton\": \"CantonName\"})"
   ]
  },
  {
   "cell_type": "code",
   "execution_count": 29,
   "id": "679836ed",
   "metadata": {},
   "outputs": [],
   "source": [
    "df_countries_french = df_countries_french.rename(columns = {'Country': 'CountryName', 'Capital': 'CapitalName'})\n",
    "columns_to_normalize = ['CountryName', 'CapitalName']\n",
    "df_countries_french[columns_to_normalize] = df_countries_french[columns_to_normalize].applymap(apply_normalize_text_if_str)"
   ]
  },
  {
   "cell_type": "code",
   "execution_count": 65,
   "id": "b15c76f9",
   "metadata": {},
   "outputs": [],
   "source": [
    "country_name_variations = [\n",
    "    {\"OfficialName\": \"emirats arabes unis\", \"OtherNames\": [\"EAU\"]},\n",
    "    {\"OfficialName\": \"etats-unis\", \"OtherNames\": [\"USA\", \"Les États\"]},\n",
    "    {\"OfficialName\": \"royaume-uni\", \"OtherNames\": [\"Angleterre\", \"Écosse\", \"Wales\", \"Pays de Galles\", \"UK\"]},\n",
    "    {\"OfficialName\": \"republique centrafricaine\", \"OtherNames\": [\"Centrafrique\"]},\n",
    "    {\"OfficialName\": \"republique du congo\", \"OtherNames\": [\"Congo-Brazzaville\"]},\n",
    "    {\"OfficialName\": \"republique democratique du congo\", \"OtherNames\": [\"Congo-Kinshasa\", \"RDC\"]},\n",
    "    {\"OfficialName\": \"coree du nord\", \"OtherNames\": [\"République Populaire Démocratique de Corée\"]},\n",
    "    {\"OfficialName\": \"coree du sud\", \"OtherNames\": [\"République de Corée\"]},\n",
    "    {\"OfficialName\": \"viet nam\", \"OtherNames\": [\"Vietnam\"]},\n",
    "    {\"OfficialName\": \"pays-bas\", \"OtherNames\": [\"Hollande\"]},\n",
    "    {\"OfficialName\": \"russie\", \"OtherNames\": [\"Fédération de Russie\"]},\n",
    "    {\"OfficialName\": \"iran\", \"OtherNames\": [\"République islamique d'Iran\"]},\n",
    "    {\"OfficialName\": \"chine\", \"OtherNames\": [\"République populaire de Chine\"]},\n",
    "    {\"OfficialName\": \"taïwan\", \"OtherNames\": [\"République de Chine (Taiwan)\"]},\n",
    "    {\"OfficialName\": \"venezuela\", \"OtherNames\": [\"République bolivarienne du Venezuela\"]},\n",
    "    {\"OfficialName\": \"bolivie\", \"OtherNames\": [\"État plurinational de Bolivie\"]},\n",
    "    {\"OfficialName\": \"syrie\", \"OtherNames\": [\"République arabe syrienne\"]},\n",
    "    {\"OfficialName\": \"macedoine du nord\", \"OtherNames\": [\"Macédoine\"]},\n",
    "    {\"OfficialName\": \"slovaquie\", \"OtherNames\": [\"République slovaque\"]},\n",
    "    {\"OfficialName\": \"republique tcheque\", \"OtherNames\": [\"Tchéquie\"]},\n",
    "    {\"OfficialName\": \"birmanie\", \"OtherNames\": [\"Myanmar\"]},\n",
    "    {\"OfficialName\": \"laos\", \"OtherNames\": [\"République démocratique populaire lao\"]},\n",
    "    {\"OfficialName\": \"libye\", \"OtherNames\": [\"Jamahiriya arabe libyenne\"]},\n",
    "    {\"OfficialName\": \"eswatini\", \"OtherNames\": [\"Swaziland\"]},\n",
    "    {\"OfficialName\": \"cap-vert\", \"OtherNames\": [\"Cabo Verde\"]}\n",
    "]"
   ]
  },
  {
   "cell_type": "code",
   "execution_count": 66,
   "id": "38ed3b51",
   "metadata": {},
   "outputs": [],
   "source": [
    "df_country_name_variations = pd.DataFrame(country_name_variations)"
   ]
  },
  {
   "cell_type": "code",
   "execution_count": null,
   "id": "1017f21b",
   "metadata": {},
   "outputs": [],
   "source": [
    "df_countries_french = df_countries_french.merge(df_country_name_variations, left_on='CountryName', right_on='OfficialName', how='left')\n",
    "df_countries_french = df_countries_french.drop(['OfficialName'], axis=1)\n",
    "df_countries_french['OtherNames'] = df_countries_french['OtherNames'].apply(lambda x: x if isinstance(x, list) else [])\n"
   ]
  },
  {
   "cell_type": "code",
   "execution_count": 85,
   "id": "81116a8e",
   "metadata": {},
   "outputs": [],
   "source": [
    "df_countries_french = df_countries_french.merge(french_iso_3166, left_on='CountryName', right_on='Name', how='left')\n",
    "df_countries_french = df_countries_french[['CountryName', 'CapitalName', 'ISO2', 'ISO3']]"
   ]
  },
  {
   "cell_type": "markdown",
   "id": "62845895",
   "metadata": {},
   "source": [
    "**Geocoding Functionality**"
   ]
  },
  {
   "cell_type": "code",
   "execution_count": 37,
   "id": "b1601bbd",
   "metadata": {},
   "outputs": [],
   "source": [
    "geocode_api_key = '1983e85e9a97673a09ed6d19417dda0f'"
   ]
  },
  {
   "cell_type": "code",
   "execution_count": 33,
   "id": "e0d247f3",
   "metadata": {},
   "outputs": [],
   "source": [
    "#Fetch coordinates for a given location name using the Positionstack API\n",
    "\n",
    "def geocode_location_positionstack(location_name, api_key):\n",
    "    base_url = \"http://api.positionstack.com/v1/forward\"\n",
    "    params = {'access_key': api_key, 'query': location_name, 'limit': 1}\n",
    "    response = requests.get(base_url, params=params)\n",
    "    \n",
    "    if response.status_code == 200:\n",
    "        data = response.json()\n",
    "        if data['data']:\n",
    "            latitude = data['data'][0]['latitude']\n",
    "            longitude = data['data'][0]['longitude']\n",
    "            return latitude, longitude\n",
    "        else:\n",
    "            return None, None\n",
    "    else:\n",
    "        print(f\"Error: {response.status_code}\")\n",
    "        return None, None"
   ]
  },
  {
   "cell_type": "code",
   "execution_count": 34,
   "id": "214d644a",
   "metadata": {},
   "outputs": [],
   "source": [
    "#Add coordinates to a DataFrame row based on a specified column's location name.\n",
    "\n",
    "def add_coordinates(row, column_name, api_key):\n",
    "    location_name = row[column_name]\n",
    "    lat, lng = geocode_location_positionstack(location_name, api_key)\n",
    "    return pd.Series({'Coordinates': (lat, lng), 'Latitude': lat, 'Longitude': lng})\n"
   ]
  },
  {
   "cell_type": "code",
   "execution_count": 38,
   "id": "bfcc17d1",
   "metadata": {},
   "outputs": [],
   "source": [
    "# Adding coordinates to cities in Switzerland and capitals worldwide.\n",
    "# Skipping the loop-based coordinate addition due to its redundancy with the apply method.\n",
    "df_countries_french[['Coordinates', 'Latitude', 'Longitude']] = df_countries_french.apply(\n",
    "    lambda row: add_coordinates(row, 'CapitalName', geocode_api_key), axis=1)\n"
   ]
  },
  {
   "cell_type": "markdown",
   "id": "bc357d0d",
   "metadata": {},
   "source": [
    "**Country and City Search Functions**"
   ]
  },
  {
   "cell_type": "code",
   "execution_count": 87,
   "id": "1445f0c1",
   "metadata": {},
   "outputs": [],
   "source": [
    "def find_countries_in_text(content, header, country_data, swiss_cities, swiss_cantons):\n",
    "    mentioned_countries = set()\n",
    "\n",
    "    # Analyze the Content using NLP\n",
    "    doc = nlp(str(content))\n",
    "    for ent in doc.ents:\n",
    "        if ent.label_ in ['LOC', 'GPE']:\n",
    "            text_lower = ent.text.lower()\n",
    "\n",
    "            # Check if the entity is a Swiss city or canton\n",
    "            if text_lower in swiss_cities['CityName'].str.lower().values or text_lower in swiss_cantons['CantonName'].str.lower().values:\n",
    "                mentioned_countries.add(\"suisse\")\n",
    "                continue  \n",
    "\n",
    "            # Check if the entity matches the capital name of a country\n",
    "            country_from_capital = country_data[country_data['CapitalName'].str.lower() == text_lower]['CountryName']\n",
    "            if not country_from_capital.empty:\n",
    "                mentioned_countries.add(country_from_capital.iloc[0])\n",
    "                continue \n",
    "\n",
    "            # Check if the entity matches the official name of a country\n",
    "            country = country_data[country_data['CountryName'].str.lower() == text_lower]['CountryName']\n",
    "            if not country.empty:\n",
    "                mentioned_countries.add(country.iloc[0])\n",
    "                continue \n",
    "\n",
    "            # Check if the entity matches any alternative name of a country\n",
    "            for index, row in country_data.iterrows():\n",
    "                other_names = row['OtherNames']\n",
    "                if isinstance(other_names, list) and text_lower in [name.lower() for name in other_names]:\n",
    "                    mentioned_countries.add(row['CountryName'])\n",
    "                    break\n",
    "\n",
    "    # Analyze the Header using simple text matching\n",
    "    header_lower = header.lower()\n",
    "    # Check if the header matches any Swiss city or canton\n",
    "    if header_lower in swiss_cities['CityName'].str.lower().values:\n",
    "        mentioned_countries.add(\"suisse\")\n",
    "    elif header_lower in swiss_cantons['CantonName'].str.lower().values:\n",
    "        mentioned_countries.add(\"suisse\")\n",
    "    \n",
    "    # Check if the header matches any capital city\n",
    "    for index, row in country_data.iterrows():\n",
    "        if header_lower == row['CapitalName'].lower():\n",
    "            mentioned_countries.add(row['CountryName'])\n",
    "            continue\n",
    "\n",
    "    # Check if the header matches any official country name\n",
    "    for index, row in country_data.iterrows():\n",
    "        if header_lower == row['CountryName'].lower():\n",
    "            mentioned_countries.add(row['CountryName'])\n",
    "            continue\n",
    "\n",
    "    # Check if the header matches any alternative country names\n",
    "    for index, row in country_data.iterrows():\n",
    "        other_names = row['OtherNames']\n",
    "        if isinstance(other_names, list) and header_lower in [name.lower() for name in other_names]:\n",
    "            mentioned_countries.add(row['CountryName'])\n",
    "\n",
    "    return mentioned_countries"
   ]
  },
  {
   "cell_type": "code",
   "execution_count": 88,
   "id": "981ff022",
   "metadata": {},
   "outputs": [],
   "source": [
    "# Apply the combined function to the DataFrame\n",
    "df_french['Mentioned_Countries'] = df_french.apply(lambda row: find_countries_in_text(row['Content'], row['Header'], df_countries_french, df_cities_french, df_cantons_french), axis=1)\n"
   ]
  },
  {
   "cell_type": "markdown",
   "id": "ccc86eee",
   "metadata": {},
   "source": [
    "#### Count Country Mentions"
   ]
  },
  {
   "cell_type": "code",
   "execution_count": 102,
   "id": "8570e463",
   "metadata": {},
   "outputs": [],
   "source": [
    "# Count and sort country mentions\n",
    "country_counts = df_french.explode('Mentioned_Countries')['Mentioned_Countries'].value_counts()\n",
    "df_country_counts = pd.DataFrame({'Country': country_counts.index, 'Count': country_counts.values})\n",
    "df_country_counts.sort_values(by='Count', ascending=False, inplace=True)"
   ]
  },
  {
   "cell_type": "code",
   "execution_count": 103,
   "id": "114e8e0c",
   "metadata": {},
   "outputs": [],
   "source": [
    "df_country_count_data = df_country_counts.merge(df_countries_french, left_on='Country', right_on='CountryName', how='left')\n"
   ]
  },
  {
   "cell_type": "markdown",
   "id": "bef3e5e1",
   "metadata": {},
   "source": [
    "#### City Search"
   ]
  },
  {
   "cell_type": "code",
   "execution_count": 93,
   "id": "f371c247",
   "metadata": {},
   "outputs": [],
   "source": [
    "# Function to find mentioned Swiss cities in text\n",
    "def find_swiss_cities_in_text(content, header, df_cities_german):\n",
    "    combined_text = normalize_text(str(content) + \" \" + str(header)).strip()\n",
    "    mentioned_swiss_cities = set()\n",
    "    for city in df_cities_german['CityName']:\n",
    "        normalized_city = normalize_text(city).strip()\n",
    "        if re.search(r'\\b' + re.escape(normalized_city) + r'\\b', combined_text):\n",
    "            mentioned_swiss_cities.add(city)\n",
    "    return mentioned_swiss_cities"
   ]
  },
  {
   "cell_type": "code",
   "execution_count": 95,
   "id": "40a9fed8",
   "metadata": {},
   "outputs": [],
   "source": [
    "# Apply the city search function to the French dataframe\n",
    "df_french['Mentioned_Swiss_Cities'] = df_french.apply(lambda row: find_swiss_cities_in_text(row['Content'], row['Header'], df_cities_french), axis=1)\n"
   ]
  },
  {
   "cell_type": "code",
   "execution_count": 101,
   "id": "b60f60b8",
   "metadata": {},
   "outputs": [],
   "source": [
    "# Updating Mentioned Countries with Switzerland if Swiss Cities are Mentioned\n",
    "switzerland_added = False  # Flag to track if 'Schweiz' is added\n",
    "for idx, row in df_french.iterrows():\n",
    "    if row['Mentioned_Swiss_Cities'] and \"suisse\" not in row['Mentioned_Countries']:\n",
    "        df_french.at[idx, 'Mentioned_Countries'] = row['Mentioned_Countries'].union({\"schweiz\"})\n"
   ]
  },
  {
   "cell_type": "code",
   "execution_count": 106,
   "id": "0ded1d2c",
   "metadata": {},
   "outputs": [],
   "source": [
    "# Counting and Sorting Mentioned Swiss Cities\n",
    "city_counts = df_french.explode('Mentioned_Swiss_Cities')['Mentioned_Swiss_Cities'].value_counts()\n",
    "df_city_counts = pd.DataFrame({'City': city_counts.index, 'Count': city_counts.values})\n",
    "df_city_counts.sort_values(by='Count', ascending=False, inplace=True)"
   ]
  },
  {
   "cell_type": "code",
   "execution_count": 108,
   "id": "c324615d",
   "metadata": {},
   "outputs": [],
   "source": [
    "# Merging City Count Data with Swiss Cities Data\n",
    "df_city_count_data = df_city_counts.merge(df_cities_french, left_on='City', right_on='CityName', how='left')\n",
    "df_city_count_data = df_city_count_data[['City', 'Count', 'Coordinates', 'Longitude', 'Latitude']]\n"
   ]
  },
  {
   "cell_type": "markdown",
   "id": "a72f81e7",
   "metadata": {},
   "source": [
    " ### Exports"
   ]
  },
  {
   "cell_type": "code",
   "execution_count": null,
   "id": "e42df262",
   "metadata": {},
   "outputs": [],
   "source": [
    "csv_file_path = 'output/data/df_cities_french_with_coordinates.csv'\n",
    "df_cities_german.to_csv(csv_file_path, index=False)"
   ]
  },
  {
   "cell_type": "code",
   "execution_count": 110,
   "id": "d5ffd540",
   "metadata": {},
   "outputs": [],
   "source": [
    "csv_file_path = 'output/data/df_french_with_mentions.csv'\n",
    "df_french.to_csv(csv_file_path, index=False)"
   ]
  },
  {
   "cell_type": "code",
   "execution_count": 111,
   "id": "32a4e351",
   "metadata": {},
   "outputs": [],
   "source": [
    "csv_file_path = 'output/data/df_city_count_data_french.csv'\n",
    "df_city_count_data.to_csv(csv_file_path, index=False)"
   ]
  },
  {
   "cell_type": "code",
   "execution_count": 112,
   "id": "2a2f5e10",
   "metadata": {},
   "outputs": [],
   "source": [
    "csv_file_path = 'output/data/df_country_count_data_french.csv'\n",
    "df_country_count_data.to_csv(csv_file_path, index=False)"
   ]
  }
 ],
 "metadata": {
  "kernelspec": {
   "display_name": "Python 3 (ipykernel)",
   "language": "python",
   "name": "python3"
  },
  "language_info": {
   "codemirror_mode": {
    "name": "ipython",
    "version": 3
   },
   "file_extension": ".py",
   "mimetype": "text/x-python",
   "name": "python",
   "nbconvert_exporter": "python",
   "pygments_lexer": "ipython3",
   "version": "3.9.12"
  }
 },
 "nbformat": 4,
 "nbformat_minor": 5
}
